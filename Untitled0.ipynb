{
 "metadata": {
  "name": "",
  "signature": "sha256:2b0d6d9b469a255562ce6e34d277c2fbd68124ab66271c848786b09e5d73e6ad"
 },
 "nbformat": 3,
 "nbformat_minor": 0,
 "worksheets": []
}